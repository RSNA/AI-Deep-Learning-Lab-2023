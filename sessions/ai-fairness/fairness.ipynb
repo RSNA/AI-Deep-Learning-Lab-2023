{
 "cells": [
  {
   "cell_type": "markdown",
   "metadata": {},
   "source": [
    "# Evaluating Fairness of AI Models in Radiology\n",
    "\n",
    "[![Open In Colab](https://colab.research.google.com/assets/colab-badge.svg)](https://githubtocolab.com/Sulam-Group/AI-Deep-Learning-Lab-2023/blob/bbjt-nb-fairness_interpretability/sessions/ai-fairness/fairness.ipynb)\n",
    "\n",
    "---\n",
    "\n",
    "**Before we start**\n",
    "\n",
    "1. Change Colab runtime to GPU,\n",
    "2. Add a shortcut to the shared Google Drive folder: [https://drive.google.com/drive/folders/1p90aGBS8vIX54x9ytaW8h-vk4NHXDhpR?usp=sharing](https://drive.google.com/drive/folders/1p90aGBS8vIX54x9ytaW8h-vk4NHXDhpR?usp=sharing)"
   ]
  },
  {
   "cell_type": "code",
   "execution_count": null,
   "metadata": {},
   "outputs": [],
   "source": [
    "from google.colab import drive\n",
    "drive.mount(\"/content/drive\", force_remount=True)\n",
    "\n",
    "import os\n",
    "import sys\n",
    "import torch\n",
    "import pandas as pd\n",
    "from torch.utils.data import DataLoader\n",
    "from tqdm import tqdm\n",
    "\n",
    "LAB_PATH = os.path.join(\"drive/MyDrive/RSNA2023-FAIRNESS-LAB\")\n",
    "sys.path.append(LAB_PATH)\n",
    "\n",
    "!python -m pip install entmax\n",
    "from utils import get_dataset, get_slice_predictor\n",
    "\n",
    "device = torch.device(\"cuda\" if torch.cuda.is_available() else \"cpu\")\n"
   ]
  },
  {
   "cell_type": "code",
   "execution_count": null,
   "metadata": {},
   "outputs": [],
   "source": [
    "model = get_slice_predictor(device)\n",
    "\n",
    "dataset = get_dataset()\n",
    "dataloader = DataLoader(dataset, batch_size=1, shuffle=False)\n",
    "\n",
    "predictions = []\n",
    "for i, data in enumerate(tqdm(dataloader)):\n",
    "    series, target, labels, bio = data\n",
    "\n",
    "    series = series.squeeze()\n",
    "    labels = labels.squeeze()\n",
    "\n",
    "    series = series.to(device)\n",
    "\n",
    "    with torch.no_grad():\n",
    "        logits = model(series)\n",
    "\n",
    "    for logit, label in zip(logits, labels):\n",
    "        predictions.append(\n",
    "            {\n",
    "                \"logit\": logit.item(),\n",
    "                \"label\": label.item(),\n",
    "                \"bio\": bio.item(),\n",
    "            }\n",
    "        )\n",
    "\n",
    "predictions_df = pd.DataFrame(predictions)\n",
    "predictions_df.to_csv(os.path.join(\"predictions.csv\"), index=False)"
   ]
  }
 ],
 "metadata": {
  "kernelspec": {
   "display_name": "cuda118",
   "language": "python",
   "name": "python3"
  },
  "language_info": {
   "codemirror_mode": {
    "name": "ipython",
    "version": 3
   },
   "file_extension": ".py",
   "mimetype": "text/x-python",
   "name": "python",
   "nbconvert_exporter": "python",
   "pygments_lexer": "ipython3",
   "version": "3.11.5"
  }
 },
 "nbformat": 4,
 "nbformat_minor": 2
}
