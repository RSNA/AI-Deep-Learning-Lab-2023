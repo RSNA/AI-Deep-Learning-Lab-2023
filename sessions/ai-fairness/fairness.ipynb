{
  "cells": [
    {
      "cell_type": "markdown",
      "metadata": {
        "id": "xSKNfxYiAWAv"
      },
      "source": [
        "# Evaluating Fairness of AI Models in Radiology\n",
        "\n",
        "[![Open In Colab](https://colab.research.google.com/assets/colab-badge.svg)](https://githubtocolab.com/Sulam-Group/AI-Deep-Learning-Lab-2023/blob/bbjt-nb-fairness_interpretability/sessions/ai-fairness/fairness.ipynb)\n",
        "\n",
        "---\n",
        "\n",
        "**Before we start**\n",
        "\n",
        "1. Change Colab runtime to GPU,\n",
        "2. Add a shortcut to the shared Google Drive folder: [https://drive.google.com/drive/folders/1p90aGBS8vIX54x9ytaW8h-vk4NHXDhpR?usp=sharing](https://drive.google.com/drive/folders/1p90aGBS8vIX54x9ytaW8h-vk4NHXDhpR?usp=sharing)"
      ]
    },
    {
      "cell_type": "code",
      "execution_count": null,
      "metadata": {
        "id": "dlu1_i6WAWAx",
        "outputId": "459b33a0-59b2-452f-fdca-7c7c6e295d1d",
        "colab": {
          "base_uri": "https://localhost:8080/"
        }
      },
      "outputs": [
        {
          "output_type": "stream",
          "name": "stdout",
          "text": [
            "Mounted at /content/drive\n",
            "Collecting entmax\n",
            "  Downloading entmax-1.1-py3-none-any.whl (12 kB)\n",
            "Requirement already satisfied: torch>=1.0 in /usr/local/lib/python3.10/dist-packages (from entmax) (2.1.0+cu118)\n",
            "Requirement already satisfied: filelock in /usr/local/lib/python3.10/dist-packages (from torch>=1.0->entmax) (3.13.1)\n",
            "Requirement already satisfied: typing-extensions in /usr/local/lib/python3.10/dist-packages (from torch>=1.0->entmax) (4.5.0)\n",
            "Requirement already satisfied: sympy in /usr/local/lib/python3.10/dist-packages (from torch>=1.0->entmax) (1.12)\n",
            "Requirement already satisfied: networkx in /usr/local/lib/python3.10/dist-packages (from torch>=1.0->entmax) (3.2.1)\n",
            "Requirement already satisfied: jinja2 in /usr/local/lib/python3.10/dist-packages (from torch>=1.0->entmax) (3.1.2)\n",
            "Requirement already satisfied: fsspec in /usr/local/lib/python3.10/dist-packages (from torch>=1.0->entmax) (2023.6.0)\n",
            "Requirement already satisfied: triton==2.1.0 in /usr/local/lib/python3.10/dist-packages (from torch>=1.0->entmax) (2.1.0)\n",
            "Requirement already satisfied: MarkupSafe>=2.0 in /usr/local/lib/python3.10/dist-packages (from jinja2->torch>=1.0->entmax) (2.1.3)\n",
            "Requirement already satisfied: mpmath>=0.19 in /usr/local/lib/python3.10/dist-packages (from sympy->torch>=1.0->entmax) (1.3.0)\n",
            "Installing collected packages: entmax\n",
            "Successfully installed entmax-1.1\n"
          ]
        }
      ],
      "source": [
        "from google.colab import drive\n",
        "drive.mount(\"/content/drive\", force_remount=True)\n",
        "\n",
        "import os\n",
        "import sys\n",
        "import torch\n",
        "import pandas as pd\n",
        "import numpy as np\n",
        "import matplotlib.pyplot as plt\n",
        "from sklearn.metrics import confusion_matrix\n",
        "from torch.utils.data import DataLoader\n",
        "from tqdm import tqdm\n",
        "\n",
        "LAB_PATH = os.path.join(\"drive/MyDrive/RSNA2023-FAIRNESS-LAB\")\n",
        "sys.path.append(LAB_PATH)\n",
        "\n",
        "!python -m pip install entmax\n",
        "from utils import get_dataset, get_slice_predictor\n",
        "\n",
        "device = torch.device(\"cuda\" if torch.cuda.is_available() else \"cpu\")\n"
      ]
    },
    {
      "cell_type": "code",
      "execution_count": null,
      "metadata": {
        "id": "pvpFSOxhAWAy",
        "colab": {
          "base_uri": "https://localhost:8080/"
        },
        "outputId": "9d8114a0-2d4d-40a2-f30b-bea35d3156bf"
      },
      "outputs": [
        {
          "output_type": "stream",
          "name": "stderr",
          "text": [
            "Downloading: \"https://download.pytorch.org/models/resnet18-f37072fd.pth\" to /root/.cache/torch/hub/checkpoints/resnet18-f37072fd.pth\n",
            "100%|██████████| 44.7M/44.7M [00:00<00:00, 70.4MB/s]\n",
            "100%|██████████| 75/75 [01:28<00:00,  1.17s/it]\n"
          ]
        }
      ],
      "source": [
        "model = get_slice_predictor(device)\n",
        "\n",
        "dataset = get_dataset()\n",
        "dataloader = DataLoader(dataset, batch_size=1, shuffle=False)\n",
        "\n",
        "predictions = []\n",
        "for i, data in enumerate(tqdm(dataloader)):\n",
        "    series, target, labels, bio = data\n",
        "\n",
        "    series = series.squeeze()\n",
        "    labels = labels.squeeze()\n",
        "\n",
        "    series = series.to(device)\n",
        "\n",
        "    with torch.no_grad():\n",
        "        logits = model(series)\n",
        "\n",
        "    for logit, label in zip(logits, labels):\n",
        "        predictions.append(\n",
        "            {\n",
        "                \"logit\": logit.item(),\n",
        "                \"label\": label.item(),\n",
        "                \"bio\": bio.item(),\n",
        "            }\n",
        "        )\n",
        "\n",
        "data = pd.DataFrame(predictions)\n",
        "data.to_csv(os.path.join(\"data.csv\"), index=False)"
      ]
    },
    {
      "cell_type": "code",
      "source": [
        "# Necessary functions\n",
        "def metrics(y, y_hat):\n",
        "  tn, fp, fn, tp = confusion_matrix(y, y_hat).ravel()\n",
        "  tpr = tp/(tp+fn)\n",
        "  fpr = fp/(tn+fp)\n",
        "  return (fpr, tpr)"
      ],
      "metadata": {
        "id": "4CnxR-iUNxPx"
      },
      "execution_count": null,
      "outputs": []
    },
    {
      "cell_type": "markdown",
      "source": [
        "# Part 1: Evaluating the model and generating predictions\n",
        "In this section, we will\n",
        "1. Write a function to plot the ROC curve of our model\n",
        "2. Calculate an optimal value to threshold our predicted probabilites to generate predictions $\\hat{Y}$\n",
        "___"
      ],
      "metadata": {
        "id": "e3J4H8gXEAJC"
      }
    },
    {
      "cell_type": "markdown",
      "source": [
        "1. Given a function `metrics` that returns the `fprs` and `tprs` for predictions `y_hat` and labels `y`, write a function `ROC` that takes as input the predicted probabilites `y_prob` and labels `y` and returns a tuple `(thresholds, fprs, tprs)` of `thresholds`, `fprs`, and `tprs`, metrics that are necessary to plot the ROC curve."
      ],
      "metadata": {
        "id": "iPHCKuE-D9xf"
      }
    },
    {
      "cell_type": "code",
      "source": [
        "# Function to calculate metrics to plot the ROC\n",
        "\n",
        "def ROC(y_prob, y):\n",
        "  ## YOUR CODE HERE ##\n",
        "  return (thresholds, np.array(fprs), np.array(tprs))\n"
      ],
      "metadata": {
        "id": "Rd0uV-MeOHyd"
      },
      "execution_count": null,
      "outputs": []
    },
    {
      "cell_type": "code",
      "source": [
        "#@title Solution\n",
        "\n",
        "# Function to calculate metrics to plot the ROC\n",
        "\n",
        "def ROC(y_prob, y):\n",
        "  tprs = []\n",
        "  fprs = []\n",
        "  thresholds = np.linspace(0,1,1000)\n",
        "  for t in thresholds:\n",
        "      y_hat = (y_prob >= t).astype('float')\n",
        "      fpr, tpr = metrics(y, y_hat)\n",
        "      tprs.append(tpr)\n",
        "      fprs.append(fpr)\n",
        "  return (thresholds, np.array(fprs), np.array(tprs))\n"
      ],
      "metadata": {
        "cellView": "form",
        "id": "fdpZeb1ROR9K"
      },
      "execution_count": null,
      "outputs": []
    },
    {
      "cell_type": "markdown",
      "source": [
        "2. Fill in the blanks below to plot the ROC curve"
      ],
      "metadata": {
        "id": "kyO292B37c3y"
      }
    },
    {
      "cell_type": "code",
      "source": [
        "# Fill in the blanks to plot the ROC curve\n",
        "y_prob = data['logits']\n",
        "y = data['label']\n",
        "thresholds, fprs, tprs = ROC(y_prob, y)\n",
        "plt.figure(figsize=(4,4))\n",
        "plt.plot(_, _)\n",
        "plt.xlabel('_')\n",
        "plt.ylabel('_')"
      ],
      "metadata": {
        "id": "l-obMFlrSDGO"
      },
      "execution_count": null,
      "outputs": []
    },
    {
      "cell_type": "code",
      "source": [
        "#@title Solution\n",
        "\n",
        "# Plot the ROC curve\n",
        "y_prob = data['logit']\n",
        "y = data['label']\n",
        "thresholds, fprs, tprs = ROC(y_prob, y)\n",
        "plt.figure(figsize=(4,4))\n",
        "plt.plot(fprs, tprs)\n",
        "plt.xlabel('FPR')\n",
        "plt.ylabel('TPR')"
      ],
      "metadata": {
        "cellView": "form",
        "id": "CSl2G9OHSXIC"
      },
      "execution_count": null,
      "outputs": []
    },
    {
      "cell_type": "markdown",
      "source": [
        "3. To generate actual predictions `y_hat`, we need to calculate the optimal value to threshold our predicted probabilites `y_prob`. For this tutorial, lets find the threshold that maximizes the Youden's J-statistic and then use this threshold to generate predictions `y_hat` and store them in a new column.\n",
        "\n",
        "$$\n",
        "J = TPR - FPR\n",
        "$$"
      ],
      "metadata": {
        "id": "9o069Fo2Onn5"
      }
    },
    {
      "cell_type": "code",
      "source": [
        "# Calculate the optimal threshold and generate predictions y_hat\n",
        "\n",
        "# YOUR CODE TO CALCULATE THE OPTIMAL THRESHOLD\n",
        "y_hat = (y_prob >= 'your calculate threshold will go here').astype('float')\n",
        "data['predictions'] = y_hat"
      ],
      "metadata": {
        "id": "bMJHPvHbTJrT"
      },
      "execution_count": null,
      "outputs": []
    },
    {
      "cell_type": "code",
      "source": [
        "#@title Solution\n",
        "\n",
        "# Calculate the optimal threshold and generate predictions y_hat\n",
        "J = tprs - fprs\n",
        "optimal_threshold = thresholds[np.argmax(J)]\n",
        "y_hat = (y_prob >= optimal_threshold).astype('float')\n",
        "data['predictions'] = y_hat"
      ],
      "metadata": {
        "id": "MoKuJ0fhOoAo",
        "cellView": "form"
      },
      "execution_count": null,
      "outputs": []
    },
    {
      "cell_type": "markdown",
      "source": [
        "4. With the optimal threshold now calculated, print the `FPR`, `TPR`, and `J-statistic` of this model"
      ],
      "metadata": {
        "id": "QcqdkCjBzxoY"
      }
    },
    {
      "cell_type": "code",
      "source": [
        "# Calculate the FPR, TPR, and J-statistic of the current model\n",
        "# YOUR CODE HERE\n",
        "\n",
        "print('FPR = ', 'your answer here')\n",
        "print('TPR = ', 'your answer here')\n",
        "print('J-statistic = ', 'your answer here')"
      ],
      "metadata": {
        "id": "lB0cLAqdz-G2"
      },
      "execution_count": null,
      "outputs": []
    },
    {
      "cell_type": "code",
      "source": [
        "#@title Solution\n",
        "\n",
        "# Calculate the FPR, TPR, and J-statistic of the current model\n",
        "fpr = fprs[np.argmax(J)]\n",
        "tpr = tprs[np.argmax(J)]\n",
        "J = tpr - fpr\n",
        "print('FPR = ', fpr)\n",
        "print('TPR = ', tpr)\n",
        "print('J-statistic = ', J)"
      ],
      "metadata": {
        "cellView": "form",
        "id": "_2Byweq9z-g6"
      },
      "execution_count": null,
      "outputs": []
    },
    {
      "cell_type": "markdown",
      "source": [
        "## Part 2: Evaluating and controlling a models fairness\n",
        "In this section we will\n",
        "1. Describe 2 common notions of fairness and learn how to evaluate them\n",
        "2. Evaluate how controlling for fairness may impact a model's overall performance\n",
        "___"
      ],
      "metadata": {
        "id": "MMCWH0D4U3c7"
      }
    },
    {
      "cell_type": "markdown",
      "source": [
        "**Definition 1: Equal Oppurtunity**\n",
        "\n",
        "A predictor $\\hat{Y}$ satisfies equal opportunity with respect to a binary sensitive attribute $A = \\{0,1\\}$ if\n",
        "\n",
        "$$\n",
        "\\mathbb{P}[\\hat{Y} = 1 \\mid A = 1, Y = 1] = \\mathbb{P}[\\hat{Y} = 1 \\mid A = 0, Y = 1]\n",
        "$$\n",
        "\n",
        "We can evaluate to what extent $\\hat{Y}$ satisfies this condition by evaluating the following metric\n",
        "\n",
        "$$\n",
        "\\Delta_{FPR} = |\\mathbb{P}[\\hat{Y} = 1 \\mid A = 1, Y = 1] - \\mathbb{P}[\\hat{Y} = 1 \\mid A = 0, Y = 1]|\n",
        "$$\n",
        "\n",
        "\n",
        "**Definition 2: Predictive Equality**\n",
        "\n",
        "A predictor $\\hat{Y}$ satisfies predictive equality with respect to a binary sensitive attribute $A = \\{0,1\\}$ if\n",
        "\n",
        "$$\n",
        "\\mathbb{P}[\\hat{Y} = 1 \\mid A = 1, Y = 0] = \\mathbb{P}[\\hat{Y} = 1 \\mid A = 0, Y = 0]\n",
        "$$\n",
        "\n",
        "We can evaluate to what extent $\\hat{Y}$ satisfies this condition by evaluating the following metric\n",
        "\n",
        "$$\n",
        "\\Delta_{TPR} = |\\mathbb{P}[\\hat{Y} = 1 \\mid A = 1, Y = 1] - \\mathbb{P}[\\hat{Y} = 1 \\mid A = 0, Y = 1]|\n",
        "$$\n",
        "___\n",
        "\n",
        "\n"
      ],
      "metadata": {
        "id": "pr5n7MxKeozn"
      }
    },
    {
      "cell_type": "markdown",
      "source": [
        "1. Lets start by calculating $\\Delta_{TPR}$ and $\\Delta_{FPR}$. Write some code to calculate the following quantities and print them below"
      ],
      "metadata": {
        "id": "K_PJdSoumGQS"
      }
    },
    {
      "cell_type": "code",
      "source": [
        "# Calculate \\Delta_TPR\n",
        "## YOUR CODE HERE (hint: isolate data to samples that have A = 1 and Y = 1)\n",
        "\n",
        "print('Delta_TPR = ', 'your answer here')\n",
        "\n",
        "\n",
        "# Calculate \\Delta_FPR\n",
        "## YOUR CODE HERE (hint: isolate data to samples that have A = 1 and Y = 0)\n",
        "\n",
        "print('Delta_FPR = ', 'your answer here')"
      ],
      "metadata": {
        "id": "lGaWdi_5113m"
      },
      "execution_count": null,
      "outputs": []
    },
    {
      "cell_type": "code",
      "source": [
        "#@title Solution\n",
        "# Calculate \\Delta_TPR\n",
        "data_A1Y1 = data.loc[(data['bio'] == 1) & (data['label'] == 1)]\n",
        "data_A0Y1 = data.loc[(data['bio'] == 0) & (data['label'] == 1)]\n",
        "p_a1y1 = sum(data_A1Y1['predictions'])/len(data_A1Y1)\n",
        "p_a0y1 = sum(data_A0Y1['predictions'])/len(data_A0Y1)\n",
        "print('Delta_TPR = ', abs(p_a1y1 - p_a0y1))\n",
        "\n",
        "# Calculate \\Delta_FPR\n",
        "data_A1Y0 = data.loc[(data['bio'] == 1) & (data['label'] == 0)]\n",
        "data_A0Y0 = data.loc[(data['bio'] == 0) & (data['label'] == 0)]\n",
        "p_a1y0 = sum(data_A1Y0['predictions'])/len(data_A1Y0)\n",
        "p_a0y0 = sum(data_A0Y0['predictions'])/len(data_A0Y0)\n",
        "print('Delta_FPR = ', abs(p_a1y0 - p_a0y0))"
      ],
      "metadata": {
        "cellView": "form",
        "id": "xe-TI1ihU_xD"
      },
      "execution_count": null,
      "outputs": []
    },
    {
      "cell_type": "markdown",
      "source": [
        "2. $\\Delta_{TPR}$ and $\\Delta_{FPR}$ being greater than 0 indicate that the predictions are unfair. The cell below plots the FPR and TPR per group."
      ],
      "metadata": {
        "id": "3lTaB6Rb5a3-"
      }
    },
    {
      "cell_type": "code",
      "source": [
        "# Plot\n",
        "plt.figure(figsize=(4,4))\n",
        "plt.plot([0, p_a1y0, 1], [0, p_a1y1, 1])\n",
        "plt.plot([0, p_a0y0, 1], [0, p_a0y1, 1])\n",
        "plt.xlim([0,1.01])\n",
        "plt.ylim([0,1.01])\n",
        "plt.xlabel('FPR')\n",
        "plt.ylabel('TPR')\n",
        "plt.legend(['A = 1', 'A = 0'])"
      ],
      "metadata": {
        "id": "vWaodrIqhjvf"
      },
      "execution_count": null,
      "outputs": []
    },
    {
      "cell_type": "markdown",
      "source": [
        "3. Based off the plot above, is there a coordinate where `A = 1` and `A=0` have the same `TPR` and `FPR`? What is that point? Calculate the `FPR`, `TPR` and `J-statistic` of that coordinate and print them below."
      ],
      "metadata": {
        "id": "Ek3bahavo8V_"
      }
    },
    {
      "cell_type": "code",
      "source": [
        "# Calculate the corrected FPR, TPR, and J-statistic\n",
        "# YOUR CODE HERE\n",
        "\n",
        "print('Corrected FPR = ', 'your answer here')\n",
        "print('Corrected TPR = ', 'your answer here')\n",
        "print('Corrected J-statistic = ', 'your answer here')"
      ],
      "metadata": {
        "id": "hh630itj1vgT"
      },
      "execution_count": null,
      "outputs": []
    },
    {
      "cell_type": "code",
      "source": [
        "#@title Solution\n",
        "\n",
        "# Calculate corrected FPR and TPR\n",
        "m0 = p_a0y1/p_a0y0\n",
        "m1 = (1-p_a1y1)/(1-p_a1y0)\n",
        "new_FPR = (1 - m1)/(m0-m1)\n",
        "new_TPR = (m0)*new_FPR\n",
        "new_J = new_TPR - new_FPR\n",
        "print('Corrected FPR = ', new_FPR)\n",
        "print('Corrected TPR = ', new_TPR)\n",
        "print('Corrected J-statistic = ', new_J)"
      ],
      "metadata": {
        "id": "7F8ibnH3rhrl",
        "cellView": "form"
      },
      "execution_count": null,
      "outputs": []
    }
  ],
  "metadata": {
    "kernelspec": {
      "display_name": "Python 3",
      "name": "python3"
    },
    "language_info": {
      "codemirror_mode": {
        "name": "ipython",
        "version": 3
      },
      "file_extension": ".py",
      "mimetype": "text/x-python",
      "name": "python",
      "nbconvert_exporter": "python",
      "pygments_lexer": "ipython3",
      "version": "3.11.5"
    },
    "colab": {
      "provenance": [],
      "gpuType": "T4"
    },
    "accelerator": "GPU"
  },
  "nbformat": 4,
  "nbformat_minor": 0
}