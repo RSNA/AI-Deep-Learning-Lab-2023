{
 "cells": [
  {
   "cell_type": "markdown",
   "id": "5b9fb4ae-7099-479a-8d5b-8165ce639009",
   "metadata": {},
   "source": [
    "# install packages"
   ]
  },
  {
   "cell_type": "code",
   "execution_count": 1,
   "id": "4c2d6917-0ce1-4888-b18d-469dd03b0336",
   "metadata": {
    "tags": []
   },
   "outputs": [
    {
     "name": "stdout",
     "output_type": "stream",
     "text": [
      "Collecting pyyaml==5.3.1\n",
      "  Downloading PyYAML-5.3.1-cp39-cp39-win_amd64.whl (212 kB)\n",
      "Installing collected packages: pyyaml\n",
      "  Attempting uninstall: pyyaml\n",
      "    Found existing installation: PyYAML 6.0\n",
      "    Uninstalling PyYAML-6.0:\n",
      "      Successfully uninstalled PyYAML-6.0\n",
      "Successfully installed pyyaml-5.3.1\n"
     ]
    },
    {
     "name": "stderr",
     "output_type": "stream",
     "text": [
      "ERROR: pip's dependency resolver does not currently take into account all the packages that are installed. This behaviour is the source of the following dependency conflicts.\n",
      "conda-repo-cli 1.0.4 requires pathlib, which is not installed.\n"
     ]
    }
   ],
   "source": [
    "!pip install pyyaml==5.3.1"
   ]
  },
  {
   "cell_type": "code",
   "execution_count": 2,
   "id": "92504c5b-87f5-469d-87cd-1f848d4dbdef",
   "metadata": {
    "tags": []
   },
   "outputs": [
    {
     "name": "stdout",
     "output_type": "stream",
     "text": [
      "Collecting gen3\n",
      "  Downloading gen3-4.21.1-py3-none-any.whl (164 kB)\n",
      "Collecting urllib3>2.0.0\n",
      "  Downloading urllib3-2.0.7-py3-none-any.whl (124 kB)\n",
      "Requirement already satisfied: requests in c:\\users\\jdfuh\\anaconda3\\lib\\site-packages (from gen3) (2.27.1)\n",
      "Requirement already satisfied: jsonschema in c:\\users\\jdfuh\\anaconda3\\lib\\site-packages (from gen3) (4.4.0)\n",
      "Requirement already satisfied: aiohttp in c:\\users\\jdfuh\\anaconda3\\lib\\site-packages (from gen3) (3.8.1)\n",
      "Collecting drsclient<0.3.0,>=0.2.2\n",
      "  Downloading drsclient-0.2.3.tar.gz (7.0 kB)\n",
      "  Installing build dependencies: started\n",
      "  Installing build dependencies: finished with status 'done'\n",
      "  Getting requirements to build wheel: started\n",
      "  Getting requirements to build wheel: finished with status 'done'\n",
      "    Preparing wheel metadata: started\n",
      "    Preparing wheel metadata: finished with status 'done'\n",
      "Requirement already satisfied: tqdm<5.0.0,>=4.61.2 in c:\\users\\jdfuh\\anaconda3\\lib\\site-packages (from gen3) (4.64.0)\n",
      "Collecting dataclasses-json<=0.5.9\n",
      "  Downloading dataclasses_json-0.5.9-py3-none-any.whl (26 kB)\n",
      "Collecting humanfriendly\n",
      "  Downloading humanfriendly-10.0-py2.py3-none-any.whl (86 kB)\n",
      "Collecting indexclient\n",
      "  Downloading indexclient-2.2.1.tar.gz (17 kB)\n",
      "Collecting pypfb<1.0.0\n",
      "  Downloading pypfb-0.5.26-py3-none-any.whl (28 kB)\n",
      "Requirement already satisfied: python-dateutil in c:\\users\\jdfuh\\anaconda3\\lib\\site-packages (from gen3) (2.8.2)\n"
     ]
    },
    {
     "name": "stderr",
     "output_type": "stream",
     "text": [
      "ERROR: pip's dependency resolver does not currently take into account all the packages that are installed. This behaviour is the source of the following dependency conflicts.\n",
      "spyder 5.1.5 requires pyqt5<5.13, which is not installed.\n",
      "spyder 5.1.5 requires pyqtwebengine<5.13, which is not installed.\n",
      "conda-repo-cli 1.0.4 requires pathlib, which is not installed.\n",
      "anaconda-project 0.10.2 requires ruamel-yaml, which is not installed.\n",
      "jupyter-server 1.13.5 requires pywinpty<2; os_name == \"nt\", but you have pywinpty 2.0.2 which is incompatible.\n",
      "botocore 1.24.32 requires urllib3<1.27,>=1.25.4, but you have urllib3 2.0.7 which is incompatible.\n"
     ]
    },
    {
     "name": "stdout",
     "output_type": "stream",
     "text": [
      "Collecting xmltodict<0.14.0,>=0.13.0\n",
      "  Downloading xmltodict-0.13.0-py2.py3-none-any.whl (10.0 kB)\n",
      "Collecting cdislogging<2.0.0,>=1.1.0\n",
      "  Downloading cdislogging-1.1.1.tar.gz (8.3 kB)\n",
      "Collecting backoff\n",
      "  Downloading backoff-2.2.1-py3-none-any.whl (15 kB)\n",
      "Requirement already satisfied: click in c:\\users\\jdfuh\\anaconda3\\lib\\site-packages (from gen3) (8.0.4)\n",
      "Collecting aiofiles<0.9.0,>=0.8.0\n",
      "  Downloading aiofiles-0.8.0-py3-none-any.whl (13 kB)\n",
      "Collecting httpx\n",
      "  Downloading httpx-0.25.0-py3-none-any.whl (75 kB)\n",
      "Requirement already satisfied: pandas>=1.4.2 in c:\\users\\jdfuh\\anaconda3\\lib\\site-packages (from gen3) (1.4.2)\n",
      "Collecting marshmallow<4.0.0,>=3.3.0\n",
      "  Downloading marshmallow-3.20.1-py3-none-any.whl (49 kB)\n",
      "Collecting typing-inspect>=0.4.0\n",
      "  Downloading typing_inspect-0.9.0-py3-none-any.whl (8.8 kB)\n",
      "Collecting marshmallow-enum<2.0.0,>=1.5.1\n",
      "  Downloading marshmallow_enum-1.5.1-py2.py3-none-any.whl (4.2 kB)\n",
      "Collecting httpx\n",
      "  Downloading httpx-0.23.3-py3-none-any.whl (71 kB)\n",
      "Collecting asyncio<4.0.0,>=3.4.3\n",
      "  Downloading asyncio-3.4.3-py3-none-any.whl (101 kB)\n",
      "Collecting backoff\n",
      "  Downloading backoff-1.11.1-py2.py3-none-any.whl (13 kB)\n",
      "Requirement already satisfied: sniffio in c:\\users\\jdfuh\\anaconda3\\lib\\site-packages (from httpx->gen3) (1.2.0)\n",
      "Collecting rfc3986[idna2008]<2,>=1.3\n",
      "  Downloading rfc3986-1.5.0-py2.py3-none-any.whl (31 kB)\n",
      "Collecting httpcore<0.17.0,>=0.15.0\n",
      "  Downloading httpcore-0.16.3-py3-none-any.whl (69 kB)\n",
      "Requirement already satisfied: certifi in c:\\users\\jdfuh\\anaconda3\\lib\\site-packages (from httpx->gen3) (2021.10.8)\n",
      "Requirement already satisfied: anyio<5.0,>=3.0 in c:\\users\\jdfuh\\anaconda3\\lib\\site-packages (from httpcore<0.17.0,>=0.15.0->httpx->gen3) (3.5.0)\n",
      "Collecting h11<0.15,>=0.13\n",
      "  Downloading h11-0.14.0-py3-none-any.whl (58 kB)\n",
      "Requirement already satisfied: idna>=2.8 in c:\\users\\jdfuh\\anaconda3\\lib\\site-packages (from anyio<5.0,>=3.0->httpcore<0.17.0,>=0.15.0->httpx->gen3) (3.3)\n",
      "Requirement already satisfied: packaging>=17.0 in c:\\users\\jdfuh\\anaconda3\\lib\\site-packages (from marshmallow<4.0.0,>=3.3.0->dataclasses-json<=0.5.9->gen3) (21.3)\n",
      "Requirement already satisfied: pyparsing!=3.0.5,>=2.0.2 in c:\\users\\jdfuh\\anaconda3\\lib\\site-packages (from packaging>=17.0->marshmallow<4.0.0,>=3.3.0->dataclasses-json<=0.5.9->gen3) (3.0.4)\n",
      "Requirement already satisfied: pytz>=2020.1 in c:\\users\\jdfuh\\anaconda3\\lib\\site-packages (from pandas>=1.4.2->gen3) (2021.3)\n",
      "Requirement already satisfied: numpy>=1.18.5 in c:\\users\\jdfuh\\anaconda3\\lib\\site-packages (from pandas>=1.4.2->gen3) (1.21.5)\n",
      "Collecting gdcdictionary<2.0.0,>=1.2.0\n",
      "  Downloading gdcdictionary-1.2.0.tar.gz (41 kB)\n",
      "Collecting fastavro<1.9.0,>=1.8.2\n",
      "  Downloading fastavro-1.8.4-cp39-cp39-win_amd64.whl (544 kB)\n",
      "Collecting click\n",
      "  Downloading click-7.1.2-py2.py3-none-any.whl (82 kB)\n",
      "Collecting python-json-logger<0.2.0,>=0.1.11\n",
      "  Downloading python-json-logger-0.1.11.tar.gz (6.0 kB)\n",
      "Collecting dictionaryutils<4.0.0,>=3.4.3\n",
      "  Downloading dictionaryutils-3.4.8.tar.gz (14 kB)\n",
      "  Installing build dependencies: started\n",
      "  Installing build dependencies: finished with status 'done'\n",
      "  Getting requirements to build wheel: started\n",
      "  Getting requirements to build wheel: finished with status 'done'\n",
      "    Preparing wheel metadata: started\n",
      "    Preparing wheel metadata: finished with status 'done'\n",
      "Requirement already satisfied: PyYAML<6.0.0,>=5.3.1 in c:\\users\\jdfuh\\anaconda3\\lib\\site-packages (from pypfb<1.0.0->gen3) (5.3.1)\n",
      "Requirement already satisfied: yarl<2.0,>=1.0 in c:\\users\\jdfuh\\anaconda3\\lib\\site-packages (from aiohttp->gen3) (1.6.3)\n",
      "Requirement already satisfied: multidict<7.0,>=4.5 in c:\\users\\jdfuh\\anaconda3\\lib\\site-packages (from aiohttp->gen3) (5.1.0)\n",
      "Requirement already satisfied: async-timeout<5.0,>=4.0.0a3 in c:\\users\\jdfuh\\anaconda3\\lib\\site-packages (from aiohttp->gen3) (4.0.1)\n",
      "Requirement already satisfied: charset-normalizer<3.0,>=2.0 in c:\\users\\jdfuh\\anaconda3\\lib\\site-packages (from aiohttp->gen3) (2.0.4)\n",
      "Requirement already satisfied: attrs>=17.3.0 in c:\\users\\jdfuh\\anaconda3\\lib\\site-packages (from aiohttp->gen3) (21.4.0)\n",
      "Requirement already satisfied: frozenlist>=1.1.1 in c:\\users\\jdfuh\\anaconda3\\lib\\site-packages (from aiohttp->gen3) (1.2.0)\n",
      "Requirement already satisfied: aiosignal>=1.1.2 in c:\\users\\jdfuh\\anaconda3\\lib\\site-packages (from aiohttp->gen3) (1.2.0)\n",
      "Requirement already satisfied: typing-extensions>=3.6.5 in c:\\users\\jdfuh\\anaconda3\\lib\\site-packages (from async-timeout<5.0,>=4.0.0a3->aiohttp->gen3) (4.1.1)\n",
      "Requirement already satisfied: nose in c:\\users\\jdfuh\\anaconda3\\lib\\site-packages (from dictionaryutils<4.0.0,>=3.4.3->pypfb<1.0.0->gen3) (1.3.7)\n",
      "Collecting jsonschema\n",
      "  Downloading jsonschema-3.2.0-py2.py3-none-any.whl (56 kB)\n",
      "Requirement already satisfied: six>=1.11.0 in c:\\users\\jdfuh\\anaconda3\\lib\\site-packages (from jsonschema->gen3) (1.16.0)\n",
      "Requirement already satisfied: pyrsistent>=0.14.0 in c:\\users\\jdfuh\\anaconda3\\lib\\site-packages (from jsonschema->gen3) (0.18.0)\n",
      "Requirement already satisfied: setuptools in c:\\users\\jdfuh\\anaconda3\\lib\\site-packages (from jsonschema->gen3) (61.2.0)\n",
      "Collecting requests\n",
      "  Using cached requests-2.31.0-py3-none-any.whl (62 kB)\n",
      "Requirement already satisfied: colorama in c:\\users\\jdfuh\\anaconda3\\lib\\site-packages (from tqdm<5.0.0,>=4.61.2->gen3) (0.4.4)\n",
      "Requirement already satisfied: mypy-extensions>=0.3.0 in c:\\users\\jdfuh\\anaconda3\\lib\\site-packages (from typing-inspect>=0.4.0->dataclasses-json<=0.5.9->gen3) (0.4.3)\n",
      "Collecting pyreadline3\n",
      "  Downloading pyreadline3-3.4.1-py3-none-any.whl (95 kB)\n",
      "Building wheels for collected packages: cdislogging, drsclient, dictionaryutils, gdcdictionary, python-json-logger, indexclient\n",
      "  Building wheel for cdislogging (setup.py): started\n",
      "  Building wheel for cdislogging (setup.py): finished with status 'done'\n",
      "  Created wheel for cdislogging: filename=cdislogging-1.1.1-py3-none-any.whl size=7193 sha256=665701992ea56fb9ad7784799f65082bcae7e02ede28d7483a12b62d955c163a\n",
      "  Stored in directory: c:\\users\\jdfuh\\appdata\\local\\pip\\cache\\wheels\\d0\\23\\c9\\4598cfc85bdc3d639c83651918c39c3b369ad923ea58aa09c3\n",
      "  Building wheel for drsclient (PEP 517): started\n",
      "  Building wheel for drsclient (PEP 517): finished with status 'done'\n",
      "  Created wheel for drsclient: filename=drsclient-0.2.3-py3-none-any.whl size=7424 sha256=b5292e4afc92432339debb109f0e34a4131b5fd7a262c2844697fa2ed8ec59d8\n",
      "  Stored in directory: c:\\users\\jdfuh\\appdata\\local\\pip\\cache\\wheels\\3c\\be\\76\\65b86ab9faf71213aab39192969cfccd1b05291b7f9028cc8b\n",
      "  Building wheel for dictionaryutils (PEP 517): started\n",
      "  Building wheel for dictionaryutils (PEP 517): finished with status 'done'\n",
      "  Created wheel for dictionaryutils: filename=dictionaryutils-3.4.8-py3-none-any.whl size=15780 sha256=715f87b84bc945e467f2d8d0668415d65bfa9945a639f0faf6524d668627c3ad\n",
      "  Stored in directory: c:\\users\\jdfuh\\appdata\\local\\pip\\cache\\wheels\\11\\99\\85\\301a518e5a60eda8ea967bfe99d3763d829fa80928797db112\n",
      "  Building wheel for gdcdictionary (setup.py): started\n",
      "  Building wheel for gdcdictionary (setup.py): finished with status 'done'\n",
      "  Created wheel for gdcdictionary: filename=gdcdictionary-1.2.0-py3-none-any.whl size=58339 sha256=7109bebddfd545dc297e928ebceeae1065b956cac7fdbb46decf6e53513ed56d\n",
      "  Stored in directory: c:\\users\\jdfuh\\appdata\\local\\pip\\cache\\wheels\\bb\\49\\da\\a08a40239a7e8d23f23e859f3522f2efaa59a82f8128968966\n",
      "  Building wheel for python-json-logger (setup.py): started\n",
      "  Building wheel for python-json-logger (setup.py): finished with status 'done'\n",
      "  Created wheel for python-json-logger: filename=python_json_logger-0.1.11-py2.py3-none-any.whl size=5090 sha256=71ca80ccf2d6738325a420fe832b6f030efe1dad658c89eac42d78ab5cad3593\n",
      "  Stored in directory: c:\\users\\jdfuh\\appdata\\local\\pip\\cache\\wheels\\cd\\1a\\89\\a0c9b4fa33ccdd81cd3988a15e0dc055c1552da6db05fb3f91\n",
      "  Building wheel for indexclient (setup.py): started\n",
      "  Building wheel for indexclient (setup.py): finished with status 'done'\n",
      "  Created wheel for indexclient: filename=indexclient-2.2.1-py3-none-any.whl size=17882 sha256=2576beba1866816365b0a16d80ba2a1d06e67cf06f3792759f76a4a7da1e5dee\n",
      "  Stored in directory: c:\\users\\jdfuh\\appdata\\local\\pip\\cache\\wheels\\a2\\0d\\73\\72d63591a26e42c3cdc9194fe3fa11b96f0f923b5f801d8aee\n",
      "Successfully built cdislogging drsclient dictionaryutils gdcdictionary python-json-logger indexclient\n",
      "Installing collected packages: urllib3, rfc3986, requests, jsonschema, h11, cdislogging, marshmallow, httpcore, dictionaryutils, typing-inspect, python-json-logger, pyreadline3, marshmallow-enum, httpx, gdcdictionary, fastavro, click, backoff, asyncio, xmltodict, pypfb, indexclient, humanfriendly, drsclient, dataclasses-json, aiofiles, gen3\n",
      "  Attempting uninstall: urllib3\n",
      "    Found existing installation: urllib3 1.26.9\n",
      "    Uninstalling urllib3-1.26.9:\n",
      "      Successfully uninstalled urllib3-1.26.9\n",
      "  Attempting uninstall: requests\n",
      "    Found existing installation: requests 2.27.1\n",
      "    Uninstalling requests-2.27.1:\n",
      "      Successfully uninstalled requests-2.27.1\n",
      "  Attempting uninstall: jsonschema\n",
      "    Found existing installation: jsonschema 4.4.0\n",
      "    Uninstalling jsonschema-4.4.0:\n",
      "      Successfully uninstalled jsonschema-4.4.0\n",
      "  Attempting uninstall: click\n",
      "    Found existing installation: click 8.0.4\n",
      "    Uninstalling click-8.0.4:\n",
      "      Successfully uninstalled click-8.0.4\n",
      "Successfully installed aiofiles-0.8.0 asyncio-3.4.3 backoff-1.11.1 cdislogging-1.1.1 click-7.1.2 dataclasses-json-0.5.9 dictionaryutils-3.4.8 drsclient-0.2.3 fastavro-1.8.4 gdcdictionary-1.2.0 gen3-4.21.1 h11-0.14.0 httpcore-0.16.3 httpx-0.23.3 humanfriendly-10.0 indexclient-2.2.1 jsonschema-3.2.0 marshmallow-3.20.1 marshmallow-enum-1.5.1 pypfb-0.5.26 pyreadline3-3.4.1 python-json-logger-0.1.11 requests-2.31.0 rfc3986-1.5.0 typing-inspect-0.9.0 urllib3-2.0.7 xmltodict-0.13.0\n"
     ]
    }
   ],
   "source": [
    "!pip install gen3"
   ]
  },
  {
   "cell_type": "code",
   "execution_count": 3,
   "id": "e1b37db1-dddf-4c0f-b90a-a39ad6e2fc47",
   "metadata": {
    "tags": []
   },
   "outputs": [
    {
     "name": "stdout",
     "output_type": "stream",
     "text": [
      "Collecting pydicom\n",
      "  Downloading pydicom-2.4.3-py3-none-any.whl (1.8 MB)\n",
      "Installing collected packages: pydicom\n",
      "Successfully installed pydicom-2.4.3\n"
     ]
    }
   ],
   "source": [
    "!pip install pydicom"
   ]
  },
  {
   "cell_type": "code",
   "execution_count": 4,
   "id": "d210a934-4928-4e71-bf0f-9f12a6718424",
   "metadata": {
    "tags": []
   },
   "outputs": [],
   "source": [
    "import gen3\n",
    "import os\n",
    "import time"
   ]
  },
  {
   "cell_type": "code",
   "execution_count": 5,
   "id": "e2a61578-1af9-44aa-883d-b93a2f80a7b4",
   "metadata": {
    "tags": []
   },
   "outputs": [],
   "source": [
    "# test pulling MIDRC GUIDs -- this works\n",
    "# os.system(\"gen3 --auth midrc_credentials.json --endpoint data.midrc.org drs-pull object dg.MD1R/ea669b5e-ae51-40ba-b375-ed23a9cd1855\")\n",
    "          "
   ]
  },
  {
   "cell_type": "markdown",
   "id": "7a227c70-6fbd-45be-90db-ed73d36d17f1",
   "metadata": {},
   "source": [
    "# write nextflow config"
   ]
  },
  {
   "cell_type": "code",
   "execution_count": 6,
   "id": "4b14425f-e203-4b33-b2e4-5c44aaf02d96",
   "metadata": {
    "tags": []
   },
   "outputs": [
    {
     "name": "stdout",
     "output_type": "stream",
     "text": [
      "Writing nextflow.config\n"
     ]
    }
   ],
   "source": [
    "%%writefile nextflow.config\n",
    "\n",
    "process {\n",
    "    withLabel: download_data {\n",
    "        executor = 'local'\n",
    "    }\n",
    "    withLabel: publish_data {\n",
    "        executor = 'local'\n",
    "    }\n",
    "    withLabel: dcm2png {\n",
    "        executor = 'local'\n",
    "    }\n",
    "}\n",
    "\n",
    "workDir = 'sdk_data'"
   ]
  },
  {
   "cell_type": "markdown",
   "id": "874e4ee7-848c-432c-aa45-d434c033da06",
   "metadata": {},
   "source": [
    "# Pull some midrc guids to test"
   ]
  },
  {
   "cell_type": "code",
   "execution_count": 8,
   "id": "f8249966-23a5-477d-9a69-66aa55f71991",
   "metadata": {
    "tags": []
   },
   "outputs": [
    {
     "name": "stdout",
     "output_type": "stream",
     "text": [
      "Overwriting download_data.py\n"
     ]
    }
   ],
   "source": [
    "%%writefile download_data.py\n",
    "\n",
    "import gen3\n",
    "import os\n",
    "\n",
    "output_dir = 'data'\n",
    "\n",
    "guids = ['dg.MD1R/ea669b5e-ae51-40ba-b375-ed23a9cd1855',\n",
    "         'dg.MD1R/a745ed98-0cb9-4537-826b-13b2e354e8bb',\n",
    "         'dg.MD1R/e604979a-c71b-4ec6-b8a0-959837b86384',\n",
    "         'dg.MD1R/b5cee98d-46ff-4438-aa00-90727a383340',\n",
    "         'dg.MD1R/8a5a5579-7925-432d-a614-3ed208f1c182',\n",
    "         'dg.MD1R/33034812-47f3-4c0e-b60b-fa7a2a04ecda',\n",
    "         'dg.MD1R/5ca987c5-c660-4785-a67d-a3424cc8ec6e',\n",
    "         'dg.MD1R/44148117-1858-49ef-b30f-d239abfaff80',\n",
    "         'dg.MD1R/9ea205e8-a774-4318-a323-95eadda9bc5c',\n",
    "         'dg.MD1R/09ece36f-a0fa-48e8-8fc2-62110eaae570']\n",
    "\n",
    "midrc_creds_file = \"C:\\Users\\jdfuh\\source\\repos\\ContainerizationTest\\midrc_credentials.json\"\n",
    "endpoint = 'data.midrc.org'\n",
    "\n",
    "for guid in guids:\n",
    "    print('pulling guid {}'.format(guid))\n",
    "    os.system(\"gen3 --auth {} --endpoint {} drs-pull object {}\".format(midrc_creds_file, endpoint, guid))"
   ]
  },
  {
   "cell_type": "code",
   "execution_count": 9,
   "id": "f9237321-636e-4fce-8726-c3e7448caa1d",
   "metadata": {
    "tags": []
   },
   "outputs": [
    {
     "name": "stdout",
     "output_type": "stream",
     "text": [
      "Writing main.nf\n"
     ]
    }
   ],
   "source": [
    "%%writefile main.nf\n",
    "#!/usr/bin/env nextflow\n",
    "\n",
    "process DownloadData {\n",
    "    \n",
    "    label 'download_data'\n",
    "    \n",
    "    tag 'initial_task'\n",
    "    \n",
    "    output:\n",
    "    stdout emit: download_data_log\n",
    "    path('**/*.dcm'), emit: dicom_image\n",
    "    \n",
    "    script:\n",
    "    \"\"\"\n",
    "    python3 ${baseDir}/download_data.py\n",
    "    \"\"\"\n",
    "}\n",
    "\n",
    "process PublishData {\n",
    "    \n",
    "    label 'publish_data'\n",
    "    \n",
    "    publishDir \"${baseDir}/dicom_files\", mode: 'copy'\n",
    "    \n",
    "    input:\n",
    "    path(dicom_image) \n",
    "    \n",
    "    output:\n",
    "    stdout emit: convert_to_png_log\n",
    "    \n",
    "    script:\n",
    "    \"\"\"\n",
    "    echo $dicom_image\n",
    "    \"\"\"\n",
    "}\n",
    "\n",
    "// Define the entry workflow (initial workflow for Nextflow to run)\n",
    "workflow {\n",
    "    DownloadData()\n",
    "    PublishData(DownloadData.out.dicom_image)\n",
    "}\n"
   ]
  },
  {
   "cell_type": "code",
   "execution_count": 10,
   "id": "83db393f-0223-466b-bd13-546c5f52e8e1",
   "metadata": {
    "tags": []
   },
   "outputs": [
    {
     "name": "stderr",
     "output_type": "stream",
     "text": [
      "'nextflow' is not recognized as an internal or external command,\n",
      "operable program or batch file.\n"
     ]
    }
   ],
   "source": [
    "!nextflow run main.nf -dsl2"
   ]
  },
  {
   "cell_type": "code",
   "execution_count": null,
   "id": "da3bb932-75dc-4a4a-8348-8feaa76828b7",
   "metadata": {},
   "outputs": [],
   "source": []
  }
 ],
 "metadata": {
  "kernelspec": {
   "display_name": "Python 3 (ipykernel)",
   "language": "python",
   "name": "python3"
  },
  "language_info": {
   "codemirror_mode": {
    "name": "ipython",
    "version": 3
   },
   "file_extension": ".py",
   "mimetype": "text/x-python",
   "name": "python",
   "nbconvert_exporter": "python",
   "pygments_lexer": "ipython3",
   "version": "3.9.12"
  }
 },
 "nbformat": 4,
 "nbformat_minor": 5
}
